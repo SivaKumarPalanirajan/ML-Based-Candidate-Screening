{
 "cells": [
  {
   "cell_type": "code",
   "execution_count": 1,
   "metadata": {},
   "outputs": [],
   "source": [
    "import pandas as pd \n",
    "import numpy as np \n",
    "from sklearn.preprocessing import LabelEncoder,StandardScaler \n",
    "from sklearn.impute import KNNImputer\n",
    "from imblearn.over_sampling import SMOTENC"
   ]
  },
  {
   "cell_type": "code",
   "execution_count": 3,
   "metadata": {},
   "outputs": [],
   "source": [
    "df1=pd.read_csv('../Dataset/raw/AI_Resume_Screening.csv')\n",
    "df=df1.copy()"
   ]
  },
  {
   "cell_type": "markdown",
   "metadata": {},
   "source": [
    "# FIXING NULL VALUES"
   ]
  },
  {
   "cell_type": "code",
   "execution_count": 4,
   "metadata": {},
   "outputs": [
    {
     "name": "stdout",
     "output_type": "stream",
     "text": [
      "No of Null values: 0\n"
     ]
    }
   ],
   "source": [
    "df['Certifications']=df['Certifications'].fillna('None')\n",
    "print(\"No of Null values:\",df['Certifications'].isna().sum())"
   ]
  },
  {
   "cell_type": "markdown",
   "metadata": {},
   "source": [
    "# OUTLIER REMOVAL"
   ]
  },
  {
   "cell_type": "code",
   "execution_count": 5,
   "metadata": {},
   "outputs": [],
   "source": [
    "df['AI Score (0-100)']=np.log(1/df['AI Score (0-100)'])\n",
    "max_limit=df['AI Score (0-100)'].mean()+3*df['AI Score (0-100)'].std()\n",
    "min_limit=df['AI Score (0-100)'].mean()-3*df['AI Score (0-100)'].std()\n",
    "\n",
    "df=df[(df['AI Score (0-100)']<max_limit) & (df['AI Score (0-100)']>min_limit)]\n"
   ]
  },
  {
   "cell_type": "markdown",
   "metadata": {},
   "source": [
    "# FIXING CLASS IMBALANCE "
   ]
  },
  {
   "cell_type": "code",
   "execution_count": 6,
   "metadata": {},
   "outputs": [
    {
     "name": "stdout",
     "output_type": "stream",
     "text": [
      "No of entires with Decision as Hire: (812, 11)\n",
      "No of entires with Decision as Reject: (167, 11)\n"
     ]
    }
   ],
   "source": [
    "print(\"No of entires with Decision as Hire:\",df[df['Recruiter Decision']=='Hire'].shape)\n",
    "print(\"No of entires with Decision as Reject:\",df[df['Recruiter Decision']=='Reject'].shape)"
   ]
  },
  {
   "cell_type": "code",
   "execution_count": 7,
   "metadata": {},
   "outputs": [],
   "source": [
    "x=df.drop(columns=['Recruiter Decision'])\n",
    "y=df['Recruiter Decision']\n",
    "over_sampler=SMOTENC(sampling_strategy={'Hire':1000,'Reject':1000},categorical_features=['Name','Skills','Education','Certifications','Job Role'])\n",
    "x_resampled,y_resampled=over_sampler.fit_resample(x,y)"
   ]
  },
  {
   "cell_type": "code",
   "execution_count": 8,
   "metadata": {},
   "outputs": [],
   "source": [
    "new_data=pd.concat([x_resampled,y_resampled],axis=1)"
   ]
  },
  {
   "cell_type": "code",
   "execution_count": 9,
   "metadata": {},
   "outputs": [
    {
     "name": "stdout",
     "output_type": "stream",
     "text": [
      "<class 'pandas.core.frame.DataFrame'>\n",
      "RangeIndex: 2000 entries, 0 to 1999\n",
      "Data columns (total 11 columns):\n",
      " #   Column                  Non-Null Count  Dtype  \n",
      "---  ------                  --------------  -----  \n",
      " 0   Resume_ID               2000 non-null   int64  \n",
      " 1   Name                    2000 non-null   object \n",
      " 2   Skills                  2000 non-null   object \n",
      " 3   Experience (Years)      2000 non-null   int64  \n",
      " 4   Education               2000 non-null   object \n",
      " 5   Certifications          2000 non-null   object \n",
      " 6   Job Role                2000 non-null   object \n",
      " 7   Salary Expectation ($)  2000 non-null   int64  \n",
      " 8   Projects Count          2000 non-null   int64  \n",
      " 9   AI Score (0-100)        2000 non-null   float64\n",
      " 10  Recruiter Decision      2000 non-null   object \n",
      "dtypes: float64(1), int64(4), object(6)\n",
      "memory usage: 172.0+ KB\n"
     ]
    }
   ],
   "source": [
    "new_data.info()"
   ]
  },
  {
   "cell_type": "markdown",
   "metadata": {},
   "source": [
    "# FEATURE SELECTION BASED ON ALREADY PERFORMED ANALYSIS"
   ]
  },
  {
   "cell_type": "code",
   "execution_count": 10,
   "metadata": {},
   "outputs": [
    {
     "data": {
      "text/html": [
       "<div>\n",
       "<style scoped>\n",
       "    .dataframe tbody tr th:only-of-type {\n",
       "        vertical-align: middle;\n",
       "    }\n",
       "\n",
       "    .dataframe tbody tr th {\n",
       "        vertical-align: top;\n",
       "    }\n",
       "\n",
       "    .dataframe thead th {\n",
       "        text-align: right;\n",
       "    }\n",
       "</style>\n",
       "<table border=\"1\" class=\"dataframe\">\n",
       "  <thead>\n",
       "    <tr style=\"text-align: right;\">\n",
       "      <th></th>\n",
       "      <th>Experience (Years)</th>\n",
       "      <th>Projects Count</th>\n",
       "      <th>Recruiter Decision</th>\n",
       "      <th>AI Score (0-100)</th>\n",
       "    </tr>\n",
       "  </thead>\n",
       "  <tbody>\n",
       "    <tr>\n",
       "      <th>164</th>\n",
       "      <td>2</td>\n",
       "      <td>7</td>\n",
       "      <td>Hire</td>\n",
       "      <td>-4.382027</td>\n",
       "    </tr>\n",
       "    <tr>\n",
       "      <th>1514</th>\n",
       "      <td>1</td>\n",
       "      <td>2</td>\n",
       "      <td>Reject</td>\n",
       "      <td>-3.912023</td>\n",
       "    </tr>\n",
       "  </tbody>\n",
       "</table>\n",
       "</div>"
      ],
      "text/plain": [
       "      Experience (Years)  Projects Count Recruiter Decision  AI Score (0-100)\n",
       "164                    2               7               Hire         -4.382027\n",
       "1514                   1               2             Reject         -3.912023"
      ]
     },
     "execution_count": 10,
     "metadata": {},
     "output_type": "execute_result"
    }
   ],
   "source": [
    "required_features=['Experience (Years)','Projects Count','Recruiter Decision','AI Score (0-100)']\n",
    "\n",
    "df_to_use=new_data[required_features]\n",
    "df_to_use.sample(2)"
   ]
  },
  {
   "cell_type": "markdown",
   "metadata": {},
   "source": [
    "# SCALING OF THE FEATURES NOT REQUIRED HERE AS THE RANGE OF NUMERICAL FEATURES IS SMALL"
   ]
  },
  {
   "cell_type": "code",
   "execution_count": 11,
   "metadata": {},
   "outputs": [
    {
     "name": "stdout",
     "output_type": "stream",
     "text": [
      "Max number of Projects: 10\n",
      "Min number of Projects: 0\n",
      "Max years of experience: 10\n",
      "Min years of experience 0\n"
     ]
    }
   ],
   "source": [
    "max_years_of_experience=max(df_to_use['Experience (Years)'])\n",
    "min_years_of_experience=min(df_to_use['Experience (Years)'])\n",
    "max_no_of_projects=max(df_to_use['Projects Count'])\n",
    "min_no_of_projects=min(df_to_use['Projects Count'])\n",
    "\n",
    "print(\"Max number of Projects:\",max_no_of_projects)\n",
    "print(\"Min number of Projects:\",min_no_of_projects)\n",
    "print(\"Max years of experience:\",max_years_of_experience)\n",
    "print('Min years of experience',min_years_of_experience)"
   ]
  },
  {
   "cell_type": "markdown",
   "metadata": {},
   "source": [
    "# ENCODING ISNT NECESSARY AS THE ONLY THE TARGET FEATURE IS CATEGORICAL"
   ]
  },
  {
   "cell_type": "code",
   "execution_count": 13,
   "metadata": {},
   "outputs": [],
   "source": [
    "df_to_use.to_csv('../Dataset/preprocessed/Preprocessed_dataset.csv',index=False)"
   ]
  }
 ],
 "metadata": {
  "kernelspec": {
   "display_name": ".venv",
   "language": "python",
   "name": "python3"
  },
  "language_info": {
   "codemirror_mode": {
    "name": "ipython",
    "version": 3
   },
   "file_extension": ".py",
   "mimetype": "text/x-python",
   "name": "python",
   "nbconvert_exporter": "python",
   "pygments_lexer": "ipython3",
   "version": "3.11.9"
  }
 },
 "nbformat": 4,
 "nbformat_minor": 2
}
