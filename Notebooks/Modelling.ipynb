{
 "cells": [
  {
   "cell_type": "code",
   "execution_count": 75,
   "metadata": {},
   "outputs": [],
   "source": [
    "import pandas as pd \n",
    "from sklearn.linear_model import LinearRegression,LogisticRegression\n",
    "from sklearn.model_selection import train_test_split\n",
    "from sklearn.metrics import r2_score,classification_report,precision_score,recall_score,accuracy_score,f1_score\n",
    "import pickle"
   ]
  },
  {
   "cell_type": "code",
   "execution_count": 76,
   "metadata": {},
   "outputs": [],
   "source": [
    "df=pd.read_csv('../Dataset/Preprocessed_dataset.csv')"
   ]
  },
  {
   "cell_type": "markdown",
   "metadata": {},
   "source": [
    "# Regression Model (For the feature 'AI Score (0-100'))"
   ]
  },
  {
   "cell_type": "code",
   "execution_count": 83,
   "metadata": {},
   "outputs": [
    {
     "name": "stdout",
     "output_type": "stream",
     "text": [
      "Model Training score: 87.13%\n",
      "R2 Score: 87.7%\n"
     ]
    }
   ],
   "source": [
    "x=df.drop(columns=['AI Score (0-100)','Recruiter Decision'])\n",
    "y=df['AI Score (0-100)']\n",
    "X_train,X_test,y_train,y_test=train_test_split(x,y,test_size=0.3)\n",
    "\n",
    "regressor=LinearRegression()\n",
    "regressor.fit(X_train,y_train)\n",
    "prediction=regressor.predict(X_test)\n",
    "\n",
    "print(f\"Model Training score: {round(regressor.score(X_train,y_train)*100,2)}%\")\n",
    "print(f\"R2 Score: {round(r2_score(y_test,prediction)*100,2)}%\")"
   ]
  },
  {
   "cell_type": "code",
   "execution_count": 78,
   "metadata": {},
   "outputs": [],
   "source": [
    "pickle.dump(regressor,open('../Models/Regressor.sav','wb'))"
   ]
  },
  {
   "cell_type": "markdown",
   "metadata": {},
   "source": [
    "# Classification Model (For the feature 'Recruiter Decision')"
   ]
  },
  {
   "cell_type": "code",
   "execution_count": 64,
   "metadata": {},
   "outputs": [
    {
     "name": "stdout",
     "output_type": "stream",
     "text": [
      "Model Training score: 97.43%\n",
      "Accuracy: 98.67%\n",
      "Recall: 98.67%\n",
      "Precision: 98.68%\n",
      "F1-Score: 98.67%\n",
      "\n",
      "              precision    recall  f1-score   support\n",
      "\n",
      "        Hire       0.99      0.98      0.99       296\n",
      "      Reject       0.98      0.99      0.99       304\n",
      "\n",
      "    accuracy                           0.99       600\n",
      "   macro avg       0.99      0.99      0.99       600\n",
      "weighted avg       0.99      0.99      0.99       600\n",
      "\n"
     ]
    }
   ],
   "source": [
    "x=df.drop(columns=['AI Score (0-100)','Recruiter Decision'])\n",
    "y=df['Recruiter Decision']\n",
    "X_train,X_test,y_train,y_test=train_test_split(x,y,test_size=0.3)\n",
    "\n",
    "Classifier=LogisticRegression()\n",
    "Classifier.fit(X_train,y_train)\n",
    "prediction=Classifier.predict(X_test)\n",
    "\n",
    "print(f\"Model Training score: {round(Classifier.score(X_train,y_train)*100,2)}%\")\n",
    "print(f\"Accuracy: {round(accuracy_score(y_test,prediction)*100,2)}%\")\n",
    "print(f\"Recall: {round(recall_score(y_test,prediction,average='weighted')*100,2)}%\")\n",
    "print(f\"Precision: {round(precision_score(y_test,prediction,average='weighted')*100,2)}%\")\n",
    "print(f\"F1-Score: {round(f1_score(y_test,prediction,average='weighted')*100,2)}%\",end='\\n\\n')\n",
    "print(classification_report(y_test,prediction))"
   ]
  },
  {
   "cell_type": "code",
   "execution_count": 70,
   "metadata": {},
   "outputs": [],
   "source": [
    "pickle.dump(Classifier,open('../Models/Classifier.sav','wb'))"
   ]
  }
 ],
 "metadata": {
  "kernelspec": {
   "display_name": ".venv",
   "language": "python",
   "name": "python3"
  },
  "language_info": {
   "codemirror_mode": {
    "name": "ipython",
    "version": 3
   },
   "file_extension": ".py",
   "mimetype": "text/x-python",
   "name": "python",
   "nbconvert_exporter": "python",
   "pygments_lexer": "ipython3",
   "version": "3.11.9"
  }
 },
 "nbformat": 4,
 "nbformat_minor": 2
}
